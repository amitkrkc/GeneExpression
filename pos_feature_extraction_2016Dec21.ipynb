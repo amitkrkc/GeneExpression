{
 "cells": [
  {
   "cell_type": "code",
   "execution_count": 1,
   "metadata": {
    "collapsed": true
   },
   "outputs": [],
   "source": [
    "# Imports"
   ]
  },
  {
   "cell_type": "code",
   "execution_count": 2,
   "metadata": {
    "collapsed": false
   },
   "outputs": [],
   "source": [
    "import pandas as pd    # for reading data files\n",
    "import h5py   # for writing as HDF files\n",
    "import numpy as np\n",
    "import time   # for measuring elapsed time\n",
    "import os     # for joining paths\n",
    "import random\n",
    "from collections import defaultdict  # for dictionary of unique elements\n",
    "# import tensorflow as tf\n",
    "# import matplotlib.pyplot as plt\n",
    "# %matplotlib inline"
   ]
  },
  {
   "cell_type": "code",
   "execution_count": 3,
   "metadata": {
    "collapsed": false
   },
   "outputs": [
    {
     "name": "stdout",
     "output_type": "stream",
     "text": [
      "['chr1', 'chr10', 'chr11', 'chr12', 'chr13', 'chr14', 'chr15', 'chr16', 'chr17', 'chr18', 'chr19', 'chr2', 'chr3', 'chr4', 'chr5', 'chr6', 'chr7', 'chr8', 'chr9']\n"
     ]
    }
   ],
   "source": [
    "eps = 0.0000000001\n",
    "\n",
    "#read unique chromosomes\n",
    "filePath = '/home/amitkrkc/bucket/mESC_data'\n",
    "chromosomeList='unique_chromosomes.txt'\n",
    "file_chromosome = os.path.join(filePath,chromosomeList)\n",
    "f = open(file_chromosome)\n",
    "chr_list= []\n",
    "for line in f:\n",
    "    chromosome = line[:-1] # discard the last element (new-line character)\n",
    "    if chromosome != 'chrX' and chromosome != 'chrY':\n",
    "        chr_list.append(chromosome) \n",
    "f.close()\n",
    "print chr_list"
   ]
  },
  {
   "cell_type": "code",
   "execution_count": 4,
   "metadata": {
    "collapsed": false
   },
   "outputs": [],
   "source": [
    "# read TRIP data\n",
    "class TRIP_data:\n",
    "    def __init__(self, filePath= '/home/amitkrkc/bucket/mESC_data', \n",
    "                 tripFile='TRIPdata_mPGK.txt'):\n",
    "        \n",
    "        # read TRIP file\n",
    "        df_pos_exp = pd.read_csv(os.path.join(filePath,tripFile), sep='\\t',skiprows=1)\n",
    "        \n",
    "        # create dictionary of chromosomes\n",
    "        self.all_pos = {}\n",
    "        self.all_mu = {}\n",
    "        for chromosome in chr_list:\n",
    "            df_chr = df_pos_exp[df_pos_exp['chromosome'] == chromosome]\n",
    "            self.all_pos[chromosome] = df_chr['position'].values\n",
    "            c1 = df_chr['expression_counts_1']\n",
    "            c2 = df_chr['expression_counts_2']\n",
    "            n1 = df_chr['normalization_counts_1']\n",
    "            n2 = df_chr['normalization_counts_2']\n",
    "            self.all_mu[chromosome] = np.log(0.5*(c1/n1 + c2/n2).values + eps)\n",
    "            \n",
    "# read BED data\n",
    "class BED_data:\n",
    "    def __init__(self,filePath='/home/amitkrkc/bucket/mESC_data',\n",
    "                 featureListFile='featureList.txt', \n",
    "                 feat_ind = [0,1,1,1,1,2,2,2,2,3,3,3,3,4,4,4,4,5,6,6,6,6]):\n",
    "        \n",
    "        # feature indices and unique features\n",
    "        self.feat_ind = feat_ind\n",
    "        self.unique_feat = np.unique(self.feat_ind)\n",
    "        self.dim_feat = len(self.unique_feat)   #dimension of unique features (=7)\n",
    "        \n",
    "        #read feature lists\n",
    "        file_feature = os.path.join(filePath,featureListFile)\n",
    "        f = open(file_feature)\n",
    "        feature_list= []\n",
    "        for line in f:\n",
    "            feature_list.append(line[:-1]) # -1 for removing new-line character\n",
    "        f.close()\n",
    "        self.feature_list = feature_list\n",
    "        \n",
    "        # create dictionary of unique indices\n",
    "        self.dict = defaultdict(list)\n",
    "        for i in range(len(feat_ind)):\n",
    "            unique_ind = feat_ind[i]\n",
    "            self.dict[unique_ind].append(i)\n",
    "\n",
    "        \n",
    "        #load all BED files into a 'big' data frame\n",
    "        col_names = 'chrom\\tchromStart\\tchromEnd\\tname\\tscore\\tstrand\\tsignalValue\\tpValue\\tqValue'.split('\\t')\n",
    "        all_df  = pd.DataFrame(columns=col_names)\n",
    "        for feat_idx in np.arange(len(feature_list), dtype=int):\n",
    "            feat_file = feature_list[feat_idx]+'.bed'\n",
    "            bed_file = os.path.join(filePath,feat_file)\n",
    "            \n",
    "            # read the BED file and append a new column FileIndex \n",
    "            # that corresponds to the index of the BED file\n",
    "            df = pd.read_csv(bed_file, sep='\\t', names=col_names, header=None)\n",
    "            df['FileIndex'] = feat_idx\n",
    "            \n",
    "            # append to the big data frame\n",
    "            all_df = all_df.append(df, ignore_index=True)\n",
    "\n",
    "        # create dictionary of chromosomes\n",
    "        self.all_df_dict = {}\n",
    "        for chromosome in chr_list:\n",
    "            all_chr = all_df[all_df['chrom']==chromosome]\n",
    "            \n",
    "            # sort by start time of chromosome\n",
    "            all_chr.sort_values(by=['chromStart']) \n",
    "            \n",
    "            self.all_df_dict[chromosome] = all_chr\n",
    "\n",
    "    # computes average over the unique values of the feature indices\n",
    "    def aggregate_features(self,feat):\n",
    "        f1 = np.zeros(self.dim_feat)\n",
    "        for kk,vv in self.dict.iteritems():\n",
    "            f1[kk] = np.average(feat[vv])\n",
    "        return f1\n",
    "    \n",
    "    # get all the features of the given chromosome at position pos_i (obtained from TRIP data)\n",
    "    def position_query(self, pos_i, chromosome='chr2'):\n",
    "        # select the data-frame corresponding to the chromosome\n",
    "        all_chr = self.all_df_dict[chromosome]        \n",
    "        \n",
    "        # find indices in the data-frame where pos_i lies in the start-end of the chromosome\n",
    "        ind = (all_chr.chromStart <= pos_i) & (all_chr.chromEnd >= pos_i)\n",
    "        val = all_chr.loc[ind, 'signalValue'].values\n",
    "        idx = all_chr.loc[ind, 'FileIndex'].values.astype(int)\n",
    "        feat = np.zeros(len(self.feature_list))\n",
    "        feat[idx] = val\n",
    "        \n",
    "        # aggreate 22-dimensional feat vector into 7-dimensional vector\n",
    "        return self.aggregate_features(feat)\n",
    "    \n",
    "    # get an aggregated feature in a range\n",
    "    def range_query(self, range_start, range_end, strategy='area_under_curve', chromosome='chr2'):\n",
    "        # extract chromStart, chromEnd, signalValue and FileIndex columns as arrays from the data frame\n",
    "        xx = self.all_df_dict[chromosome]\n",
    "        all_chrom_start = xx.chromStart.values.astype(int)\n",
    "        all_chrom_end = xx.chromEnd.values.astype(int)\n",
    "        all_chrom_signal = xx.signalValue.values\n",
    "        all_index = xx.FileIndex.values.astype(int)\n",
    "        \n",
    "        s1 = all_chrom_start\n",
    "        e1 = all_chrom_end\n",
    "        s2 = range_start\n",
    "        e2 = range_end\n",
    "\n",
    "        # compute overlaps\n",
    "        ind_a =  (s2 >= s1) & (s2 <= e1) & (e2 >= s1) & (e2 <= e1)\n",
    "        ind_d = (s2 >= s1) & (s2 <= e1) & (e2 >= e1)\n",
    "        ind_b = (s1 >= s2) & (s1 <= e2) & (e1 >= s2) & (e1 <= e2)\n",
    "        ind_c = (s1 >= s2) & (s1 <= e2) & (e1 >= e2)\n",
    "\n",
    "        # extract signals\n",
    "        signal = np.zeros(len(all_chrom_start))\n",
    "        signal[ind_a] = all_chrom_signal[ind_a]\n",
    "        signal[ind_b] = all_chrom_signal[ind_b]\n",
    "        signal[ind_c] = all_chrom_signal[ind_c]\n",
    "        signal[ind_d] = all_chrom_signal[ind_d]\n",
    "        \n",
    "        feat_22 = np.zeros(len(self.feat_ind))\n",
    "\n",
    "        if strategy == 'area_under_curve' or strategy == 'sum_of_ranges':\n",
    "            # compute area of the overlap \n",
    "            rect = np.zeros(len(all_chrom_start))\n",
    "            rect[ind_a] = e2 - s2\n",
    "            rect[ind_b] = e1[ind_b] - s1[ind_b]\n",
    "            rect[ind_c] = e2 - s1[ind_c]\n",
    "            rect[ind_d] = e1[ind_d] - s2\n",
    "            \n",
    "            if strategy=='area_under_curve':\n",
    "                # compute area under the gate function defined by the BED file\n",
    "                yy = signal*rect\n",
    "            else: # sum of ranges\n",
    "                yy = rect\n",
    "            \n",
    "            # aggregate  \n",
    "            for i in range(len(self.feat_ind)):\n",
    "                feat_22[i] = np.sum(yy[all_index == i])\n",
    "\n",
    "        elif strategy=='max_signal':\n",
    "            # aggregate the signals by their max\n",
    "            for i in range(len(self.feat_ind)):\n",
    "                feat_22[i] = np.max(signal[all_index == i])\n",
    "\n",
    "        elif strategy=='mean_signal':\n",
    "            # aggregate the signals by their average\n",
    "            for i in range(len(self.feat_ind)):\n",
    "                feat_22[i] = np.average(signal[all_index == i])\n",
    "        else:\n",
    "            raise InputError('Unsupported strategy. Supported strategies are: area_under_curve (default), sum_of_ranges, max_signal and mean_signal')\n",
    "        \n",
    "        return self.aggregate_features(feat_22)\n",
    "    \n",
    "    # performs range query in the interval [pos_i-delta, pos_i+delta]\n",
    "    def delta_query(self, pos_i, delta=5000, chromosome='chr2', strategy='area_under_curve'):\n",
    "        range_start = pos_i - delta\n",
    "        range_end = pos_i + delta\n",
    "        return self.range_query(range_start, range_end, strategy=strategy, chromosome=chromosome)\n",
    "\n",
    "class Pairwise_data:\n",
    "    def __init__(self, filePath='/home/amitkrkc/bucket/mESC_data'):\n",
    "        # create dictionary of unique indices\n",
    "        self.nij = defaultdict(list)\n",
    "        for chromosome in chr_list: #chr_list is the list of chromosomes that is defined above\n",
    "            nij_file = filePath+'/nij/nij.'+chromosome\n",
    "            nij = pd.read_csv(nij_file, sep='\\t', header=None)\n",
    "            self.nij[chromosome] = nij\n",
    "    \n",
    "    # returns the (quantized index) pos_j and distance (dist_j) of num_position nearest neighbors of \n",
    "    # (quantized) index i.\n",
    "    def get_neighbors(self, i, chromosome='chr2', num_position=100):\n",
    "       \n",
    "        # i-th column of nij\n",
    "        nij = self.nij[chromosome]\n",
    "        ww = nij[i].values\n",
    "\n",
    "        # sort distances in ascending order, and only consider last num_position elements\n",
    "        idx_sort = np.argsort(ww)\n",
    "        idx_sort = idx_sort[-num_position:]\n",
    "\n",
    "        dist_j = ww[idx_sort]\n",
    "        pos_j = idx_sort\n",
    "        return (pos_j, dist_j)"
   ]
  },
  {
   "cell_type": "code",
   "execution_count": 5,
   "metadata": {
    "collapsed": true
   },
   "outputs": [],
   "source": [
    "# perform range query for all rows of the nij matrix\n",
    "def extract_features_all_rows(chromosome='chr2', strategy='area_under_curve'):\n",
    "    num = nij.nij[chromosome].shape[1]\n",
    "    feat_matrix = np.zeros((num, 7))\n",
    "    for i in range(num):\n",
    "        k = i + 1\n",
    "        range_start = (k-1)*40000+1\n",
    "        range_end = k*40000\n",
    "        feat = bed_data.range_query(range_start, range_end, strategy=strategy,chromosome=chromosome)\n",
    "        feat_matrix[i,:] = feat\n",
    "    return feat_matrix"
   ]
  },
  {
   "cell_type": "code",
   "execution_count": 6,
   "metadata": {
    "collapsed": true
   },
   "outputs": [],
   "source": [
    "def process_all_positions(chromosome='chr2', num_position=100, delta=5000, strategy='area_under_curve'):\n",
    "    # compute range query matrix\n",
    "    feat_range_matrix = extract_features_all_rows(chromosome=chromosome, strategy=strategy)\n",
    "    \n",
    "    dim_feat = bed_data.dim_feat\n",
    "    num_samples = len(trip_data.all_pos[chromosome])\n",
    "    \n",
    "    # all delta values for delta_query\n",
    "    all_delta = np.arange(1000, 21000, 1000, dtype=int)\n",
    "    \n",
    "    tot_dim_feat = num_position + num_position*dim_feat + dim_feat + dim_feat*len(all_delta) # 807+ 7 (last 20*7  for delta-query)\n",
    "    feat_matrix = np.zeros((num_samples, tot_dim_feat))\n",
    "                           \n",
    "    # get the expression level directly from the TRIP data\n",
    "    mu_vector = trip_data.all_mu[chromosome]\n",
    "             \n",
    "    \n",
    "    # iterate for all positions in the TRIP data\n",
    "    for k in range(num_samples):        \n",
    "        #get the k-th position from TRIP data\n",
    "        pos_k = trip_data.all_pos[chromosome][k]\n",
    "                         \n",
    "        # self-feature for position pos_k\n",
    "        feat_i = bed_data.position_query(pos_k, chromosome)\n",
    "                     \n",
    "        # delta query\n",
    "        feat_delta = np.zeros(dim_feat*len(all_delta))\n",
    "        \n",
    "        for iter_delta in range(len(all_delta)):\n",
    "            delta_i = all_delta[iter_delta]\n",
    "            temp_feat = bed_data.delta_query(pos_k, delta=delta_i,chromosome=chromosome, strategy=strategy)\n",
    "            feat_delta[iter_delta*dim_feat:(iter_delta+1)*dim_feat] = temp_feat\n",
    "            \n",
    "        # quantize pos_k and get 100 nearest neighbors\n",
    "        i = 1+(pos_k-1)/40000\n",
    "        (pos_j, dist_j) = nij.get_neighbors(i, chromosome=chromosome, num_position=num_position)\n",
    "        \n",
    "        feat_range_j = feat_range_matrix[pos_j,:].ravel()  \n",
    "        feat_matrix[k,0:len(feat_range_j)] = feat_range_j\n",
    "        \n",
    "        # concatenate all features \n",
    "        feat_matrix[k,:] = np.concatenate((dist_j, feat_range_j, feat_i, feat_delta))\n",
    "                           \n",
    "    return feat_matrix, mu_vector"
   ]
  },
  {
   "cell_type": "markdown",
   "metadata": {},
   "source": [
    "### read features from BED file and mean expression from TRIP file"
   ]
  },
  {
   "cell_type": "code",
   "execution_count": null,
   "metadata": {
    "collapsed": false
   },
   "outputs": [
    {
     "name": "stdout",
     "output_type": "stream",
     "text": [
      "Time taken: 47.060183 seconds\n"
     ]
    }
   ],
   "source": [
    "tic=time.time()\n",
    "trip_data = TRIP_data() \n",
    "bed_data = BED_data()\n",
    "nij = Pairwise_data()\n",
    "toc=time.time()\n",
    "print(\"Time taken: %f seconds\"%(toc-tic))"
   ]
  },
  {
   "cell_type": "markdown",
   "metadata": {},
   "source": [
    "### create dataset "
   ]
  },
  {
   "cell_type": "code",
   "execution_count": null,
   "metadata": {
    "collapsed": false
   },
   "outputs": [],
   "source": [
    "import h5py\n",
    "for chromosome in chr_list:\n",
    "    tic=time.time()\n",
    "    feat_matrix, mu_vector = process_all_positions(chromosome=chromosome, \n",
    "                                                   num_position=100, \n",
    "                                                   delta=5000, \n",
    "                                                   strategy='area_under_curve')\n",
    "    # save data\n",
    "    h5_file = 'Features/feature_all_' + chromosome + '.h5'\n",
    "    with h5py.File(h5_file,'w') as hf:\n",
    "        hf.create_dataset('feature', data=feat_matrix)\n",
    "        hf.create_dataset('expression', data=mu_vector)\n",
    "\n",
    "    toc=time.time()\n",
    "    print(\"Chromosome:\" + chromosome +\" Time taken: %f seconds\"%(toc-tic))"
   ]
  },
  {
   "cell_type": "code",
   "execution_count": null,
   "metadata": {
    "collapsed": false
   },
   "outputs": [],
   "source": [
    "print nij.nij['chr1'].shape[1]"
   ]
  }
 ],
 "metadata": {
  "anaconda-cloud": {},
  "kernelspec": {
   "display_name": "Python [default]",
   "language": "python",
   "name": "python2"
  },
  "language_info": {
   "codemirror_mode": {
    "name": "ipython",
    "version": 2
   },
   "file_extension": ".py",
   "mimetype": "text/x-python",
   "name": "python",
   "nbconvert_exporter": "python",
   "pygments_lexer": "ipython2",
   "version": "2.7.12"
  }
 },
 "nbformat": 4,
 "nbformat_minor": 1
}
